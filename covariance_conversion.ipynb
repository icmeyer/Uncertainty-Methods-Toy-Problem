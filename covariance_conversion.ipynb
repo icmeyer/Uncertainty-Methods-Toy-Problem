{
 "cells": [
  {
   "cell_type": "markdown",
   "metadata": {
    "colab_type": "text",
    "id": "EpZaSh6SpcK4"
   },
   "source": [
    "# Sensitivity analysis of cross sections\n",
    "\n",
    "## From resonnance parameters to WMP covariances\n",
    "\n",
    "### Analytic sensitivites from complex contour integrals\n",
    "\n",
    "#### A 1-level-1channel toy Problem"
   ]
  },
  {
   "cell_type": "markdown",
   "metadata": {
    "colab_type": "text",
    "id": "Z7FH7w0iCd4R"
   },
   "source": [
    "This program implements in Python 3 :\n",
    "      - a toy-problem for conversion using the contour integral method\n",
    "      - conversions for poles an residues\n",
    "      - plots things\n",
    "\n",
    "NOTE : author is Pablo DUCRU, for any inquires please e-mail at  *** p_ducru@mit.edu ***"
   ]
  },
  {
   "cell_type": "code",
   "execution_count": null,
   "metadata": {
    "colab": {},
    "colab_type": "code",
    "id": "tl0Uh7ZDCcC6"
   },
   "outputs": [],
   "source": [
    "## Import Python package for linear algebra\n",
    "import numpy as np"
   ]
  },
  {
   "cell_type": "code",
   "execution_count": null,
   "metadata": {
    "colab": {},
    "colab_type": "code",
    "id": "1k-5eSfJucXN"
   },
   "outputs": [],
   "source": [
    "## Importing Python packages for plotting\n",
    "#from mpl_toolkits.mplot3d import Axes3D\n",
    "import matplotlib.pyplot as plt\n",
    "#from matplotlib import cm\n",
    "#from matplotlib.ticker import LinearLocator, FormatStrFormatter\n"
   ]
  },
  {
   "cell_type": "markdown",
   "metadata": {},
   "source": [
    "Import local data and functions"
   ]
  },
  {
   "cell_type": "code",
   "execution_count": null,
   "metadata": {},
   "outputs": [],
   "source": [
    "from slbw import  evaluate_Σγ, dΣγ_dΓ, z_space_Σγ, analytic_Σγ, analytic_dΣγ_dΓ, multipole_Σ, multipole_dΣ_dΓ,  exact_poles_and_residues\n",
    "from data import a_U238, ρ0_U238, ρ0, μ_E0_U238, μ_Γn_U238, μ_Γγ_U238, μ_Γ_U238, cov_Γ_U238 \n",
    "from vector_fit import VF_algorithm, rational_function"
   ]
  },
  {
   "cell_type": "markdown",
   "metadata": {
    "colab_type": "text",
    "id": "VxkWeo5mpov4"
   },
   "source": [
    "## Nuclear Cross Section Model (SLBW for this benchmark)"
   ]
  },
  {
   "cell_type": "markdown",
   "metadata": {},
   "source": [
    "#### Plotting the cross section"
   ]
  },
  {
   "cell_type": "markdown",
   "metadata": {},
   "source": [
    "> This toy-problem consists of the 1st caputre cross section of U-238"
   ]
  },
  {
   "cell_type": "code",
   "execution_count": null,
   "metadata": {
    "colab": {},
    "colab_type": "code",
    "id": "c4D-TWttqOQb"
   },
   "outputs": [],
   "source": [
    "# Energy grid structure\n",
    "E_max = 10**6 # Minimum energy of the energy groups\n",
    "E_min = 10**-4 # Maximum energy of the energy groups & the cutoff energy of the fision spectrum\n",
    "N_g = 1000 # Number of energy groups\n",
    "E_g = np.logspace(np.log10(E_min),np.log10(E_max),N_g) # Energy groups (here log-spaced) for flux ψ\n",
    "z_g = E_g**0.5 # Energy groups (here log-spaced) for flux ψ\n",
    "\n",
    "# number densities (corrected to include the spin statistical factors)\n",
    "N_densities = np.array([1,(0.124954)*1.0])\n",
    "\n",
    "# scattering cross section\n",
    "σ_nn = 0.166810"
   ]
  },
  {
   "cell_type": "code",
   "execution_count": null,
   "metadata": {},
   "outputs": [],
   "source": [
    "## Plot the mean cross section values. \n",
    "titre_Σ = 'Capture cross sections Σγ(E), first resonance U-238'\n",
    "titre_Σ_pdf = \"%s.%s\"%(titre_Σ, 'pdf')\n",
    "\n",
    "#plt.close('all')\n",
    "# Plotting the cross section\n",
    "#plt.loglog(E_g , np.array([sum(list(Σ_vector(E_g[g], μ_Γ_all))) for g in range(E_g.size)]) )\n",
    "plt.loglog(E_g , np.array([evaluate_Σγ(E_g[g], μ_Γ_U238) for g in range(E_g.size)]) , '-r', label='Σγ(E)') \n",
    "plt.loglog(z_g**2 , np.array([z_space_Σγ(z_g[g], μ_Γ_U238) for g in range(z_g.size)]) , '-.g', label='Σγ(z)') \n",
    "plt.loglog(z_g**2 , np.array([analytic_Σγ(z_g[g], μ_Γ_U238) for g in range(z_g.size)]) , ':b', label='analytic_Σγ(z)') \n",
    "plt.ylabel('Cross section Σγ(E)')\n",
    "plt.xlabel('Energy E (eV)')\n",
    "plt.title(titre_Σ)\n",
    "plt.legend()\n",
    "\n",
    "plt.rcParams['axes.facecolor'] = '0.98'"
   ]
  },
  {
   "cell_type": "markdown",
   "metadata": {},
   "source": [
    "#### SLBW derivative equations"
   ]
  },
  {
   "cell_type": "markdown",
   "metadata": {},
   "source": [
    "> We here validate the equations for the cross section derivatives with respect to resonance parameters $\\frac{\\partial \\sigma_{n,\\gamma}}{\\partial \\Gamma}(E)$"
   ]
  },
  {
   "cell_type": "code",
   "execution_count": null,
   "metadata": {},
   "outputs": [],
   "source": [
    "ε = 0.000001 \n",
    "Γ_U238_ε_E0 = np.array([μ_E0_U238 + ε, μ_Γn_U238, μ_Γγ_U238])\n",
    "Γ_U238_ε_Γn = np.array([μ_E0_U238 , μ_Γn_U238 + ε, μ_Γγ_U238])\n",
    "Γ_U238_ε_Γγ = np.array([μ_E0_U238, μ_Γn_U238, μ_Γγ_U238 + ε])\n"
   ]
  },
  {
   "cell_type": "code",
   "execution_count": null,
   "metadata": {},
   "outputs": [],
   "source": [
    "E_max = 10**6 # Minimum energy of the energy groups\n",
    "E_min = 10**-1 # Maximum energy of the energy groups & the cutoff energy of the fision spectrum\n",
    "N_g = 10 # Number of energy groups\n",
    "E_g = np.logspace(np.log10(E_min),np.log10(E_max),N_g) # Energy groups (here log-spaced) for flux ψ\n",
    "z_g = E_g**0.5"
   ]
  },
  {
   "cell_type": "code",
   "execution_count": null,
   "metadata": {
    "scrolled": true
   },
   "outputs": [],
   "source": [
    "# Energy grid structure\n",
    "E_max = 10**3 # Minimum energy of the energy groups\n",
    "E_min = 10**-1 # Maximum energy of the energy groups & the cutoff energy of the fision spectrum\n",
    "N_g = 10000 # Number of energy groups\n",
    "E_g = np.logspace(np.log10(E_min),np.log10(E_max),N_g) # Energy groups (here log-spaced) for flux ψ\n",
    "z_g = E_g**0.5\n",
    "## Plot the mean cross section values. \n",
    "plot_title = 'Partial derivative of Σγ(E) with respect to Eλ'\n",
    "plot_title_pdf = \"%s.%s\"%(plot_title, 'pdf')\n",
    "\n",
    "#plt.close('all')\n",
    "# Plotting the cross section\n",
    "#plt.loglog(E_g , np.array([sum(list(Σ_vector(E_g[g], μ_Γ_all))) for g in range(E_g.size)]) )\n",
    "plt.loglog(E_g , np.abs(np.array([(evaluate_Σγ(E_g[g], Γ_U238_ε_E0) - evaluate_Σγ(E_g[g], μ_Γ_U238) )/ε for g in range(E_g.size)])) , '-r', label='(Σγ(E,Eλ + ε) - Σγ(E,Eλ) )/ε ') \n",
    "plt.loglog(E_g , np.abs(np.array([ dΣγ_dΓ(E_g[g], μ_Γ_U238)[0] for g in range(E_g.size)])) , '-.b', label='δΣγ/δEλ(E)') \n",
    "plt.loglog(z_g**2 , np.abs(np.array([ analytic_dΣγ_dΓ(z_g[g], μ_Γ_U238)[0] for g in range(E_g.size)])) , ':k', label='δΣγ/δEλ(z)') \n",
    "plt.ylabel('δΣγ/δEλ(E)')\n",
    "plt.xlabel('Energy E (eV)')\n",
    "plt.title(plot_title)\n",
    "plt.legend()\n",
    "\n",
    "plt.rcParams['axes.facecolor'] = '0.98'"
   ]
  },
  {
   "cell_type": "code",
   "execution_count": null,
   "metadata": {
    "scrolled": true
   },
   "outputs": [],
   "source": [
    "# Energy grid structure\n",
    "E_max = 10**3 # Minimum energy of the energy groups\n",
    "E_min = 10**-1 # Maximum energy of the energy groups & the cutoff energy of the fision spectrum\n",
    "N_g = 1000 # Number of energy groups\n",
    "E_g = np.logspace(np.log10(E_min),np.log10(E_max),N_g) # Energy groups (here log-spaced) for flux ψ\n",
    "\n",
    "## Plot the mean cross section values. \n",
    "plot_title = 'Partial derivative of Σγ(E) with respect to Γn'\n",
    "plot_title_pdf = \"%s.%s\"%(plot_title, 'pdf')\n",
    "\n",
    "#plt.close('all')\n",
    "# Plotting the cross section\n",
    "#plt.loglog(E_g , np.array([sum(list(Σ_vector(E_g[g], μ_Γ_all))) for g in range(E_g.size)]) )\n",
    "plt.loglog(E_g , np.abs(np.array([(evaluate_Σγ(E_g[g], Γ_U238_ε_Γn) - evaluate_Σγ(E_g[g], μ_Γ_U238) )/ε for g in range(E_g.size)])) , '-r', label='(Σγ(E,Γn + ε) - Σγ(E,Γn) )/ε ') \n",
    "plt.loglog(E_g , np.abs(np.array([ dΣγ_dΓ(E_g[g], μ_Γ_U238)[1] for g in range(E_g.size)])) , '-.b', label='δΣγ/δΓn(E)') \n",
    "plt.loglog(z_g**2 , np.abs(np.array([ analytic_dΣγ_dΓ(z_g[g], μ_Γ_U238)[1] for g in range(z_g.size)])) , ':k', label='δΣγ/δΓn(z)') \n",
    "plt.ylabel('δΣγ/δΓn(E)')\n",
    "plt.xlabel('Energy E (eV)')\n",
    "plt.title(plot_title)\n",
    "plt.legend()\n",
    "\n",
    "plt.rcParams['axes.facecolor'] = '0.98'"
   ]
  },
  {
   "cell_type": "code",
   "execution_count": null,
   "metadata": {
    "scrolled": true
   },
   "outputs": [],
   "source": [
    "# Energy grid structure\n",
    "E_max = 10**3 # Minimum energy of the energy groups\n",
    "E_min = 10**-1 # Maximum energy of the energy groups & the cutoff energy of the fision spectrum\n",
    "N_g = 1000 # Number of energy groups\n",
    "E_g = np.logspace(np.log10(E_min),np.log10(E_max),N_g) # Energy groups (here log-spaced) for flux ψ\n",
    "\n",
    "## Plot the mean cross section values. \n",
    "plot_title = 'Partial derivative of Σγ(E) with respect to Γγ'\n",
    "plot_title_pdf = \"%s.%s\"%(plot_title, 'pdf')\n",
    "\n",
    "#plt.close('all')\n",
    "# Plotting the cross section\n",
    "#plt.loglog(E_g , np.array([sum(list(Σ_vector(E_g[g], μ_Γ_all))) for g in range(E_g.size)]) )\n",
    "plt.loglog(E_g , np.abs(np.array([(evaluate_Σγ(E_g[g], Γ_U238_ε_Γγ) - evaluate_Σγ(E_g[g], μ_Γ_U238) )/ε for g in range(E_g.size)])) , '-r', label='(Σγ(E,Γγ + ε) - Σγ(E,Γγ) )/ε ') \n",
    "plt.loglog(E_g , np.abs(np.array([ dΣγ_dΓ(E_g[g], μ_Γ_U238)[2] for g in range(E_g.size)])) , '-.b', label='δΣγ/δΓγ(E)') \n",
    "plt.loglog(z_g**2 , np.abs(np.array([ analytic_dΣγ_dΓ(z_g[g], μ_Γ_U238)[2] for g in range(z_g.size)])) , ':k', label='δΣγ/δΓγ(z)') \n",
    "plt.ylabel('δΣγ/δΓγ(E)')\n",
    "plt.xlabel('Energy E (eV)')\n",
    "plt.title(plot_title)\n",
    "plt.legend()\n",
    "\n",
    "plt.rcParams['axes.facecolor'] = '0.98'"
   ]
  },
  {
   "cell_type": "markdown",
   "metadata": {},
   "source": [
    "> The latter tests show we have coded the derivatives in z-space correctly, (which can be continued to the entire complex plane, unlike the E-space ones because of the z = ±$\\sqrt{E}$ mapping problem)."
   ]
  },
  {
   "cell_type": "markdown",
   "metadata": {},
   "source": [
    "## Sensitivity v.s. Monte Carlo cross section uncertainty"
   ]
  },
  {
   "cell_type": "markdown",
   "metadata": {},
   "source": [
    "> We here compare performing Monte Carlo from resonance parameters, to 1st-order sensitivity"
   ]
  },
  {
   "cell_type": "markdown",
   "metadata": {},
   "source": [
    "#### Sampling from resonance parameters"
   ]
  },
  {
   "cell_type": "code",
   "execution_count": null,
   "metadata": {},
   "outputs": [],
   "source": [
    "def sample_Γ_res_parameters(mean_Γ_all, cov_Γ_all): ## This implementation cannot take cross-resonance covariance yet\n",
    "    Γ_sample = np.copy(mean_Γ_all)\n",
    "    if mean_Γ_all.shape == (3,): ## This means only 1 resonance \n",
    "        Γ_sample = np.random.multivariate_normal(mean_Γ_all, cov_Γ_all) # LOG NORMAL mvln = np.exp(mvn) after sampling multivariate normal FOR NEGATIVE WIDTHS\n",
    "    else:\n",
    "        for λ in range(mean_Γ_all.shape[0]):\n",
    "            Γ_sample[λ] = np.random.multivariate_normal(mean_Γ_all[λ], cov_Γ_all[λ]) # LOG NORMAL mvln = np.exp(mvn) after sampling multivariate normal\n",
    "    return Γ_sample"
   ]
  },
  {
   "cell_type": "code",
   "execution_count": null,
   "metadata": {
    "scrolled": false
   },
   "outputs": [],
   "source": [
    "## Plot the cross sections from nuclear data uncertainty\n",
    "titre_ΔΣ = 'Stochastic macroscopic cross sections Σγ(E), drawn from covariance ΔΓ'\n",
    "titre_ΔΣ_pdf = \"%s.%s\"%(titre_ΔΣ, 'pdf')\n",
    "\n",
    "#plt.close('all')\n",
    "# Plotting the sampled cross sections\n",
    "for i in range(10):\n",
    "    Γ_sample = sample_Γ_res_parameters(μ_Γ_U238, cov_Γ_U238)\n",
    "    plt.loglog(E_g , np.array([evaluate_Σγ(E_g[g], Γ_sample) for g in range(E_g.size)])) #, '--r') \n",
    "plt.ylabel('Σγ(E) samples from ΔΓ')\n",
    "plt.xlabel('Energy E (eV)')\n",
    "plt.title(titre_ΔΣ )\n",
    "plt.legend()\n",
    "\n",
    "plt.rcParams['axes.facecolor'] = '0.98'"
   ]
  },
  {
   "cell_type": "code",
   "execution_count": null,
   "metadata": {},
   "outputs": [],
   "source": [
    "# the sampled data\n",
    "n_samples = 10000\n",
    "E_0 = E_g[300]\n",
    "print(\"E_0 =\", E_0 )\n",
    "Σγ_hist = np.array([evaluate_Σγ(E_0, sample_Γ_res_parameters(μ_Γ_U238, cov_Γ_U238))  for i in range(n_samples)])\n",
    "mean_Σγ = np.sum(Σγ_hist)/n_samples\n",
    "strd_dev_Σγ = (np.dot(Σγ_hist - mean_Σγ,Σγ_hist - mean_Σγ)/(n_samples-1))**0.5\n",
    "fig, ax = plt.subplots()\n",
    "# the histogram of the data\n",
    "num_bins = 100\n",
    "n, bins, patches = ax.hist(Σγ_hist, num_bins, density=1)\n",
    "\n",
    "# add a 1st order sensitivity line\n",
    "Σγ_mean = evaluate_Σγ(E_0, μ_Γ_U238)\n",
    "Σγ_sigma_at_E0 = (np.dot(dΣγ_dΓ(E_0, μ_Γ_U238), np.dot(cov_Γ_U238,dΣγ_dΓ(E_0, μ_Γ_U238))))**0.5\n",
    "Σγ_local_propagation = (1 / (np.sqrt(2 * np.pi) * Σγ_sigma_at_E0)) * np.exp(-0.5 * (1 / Σγ_sigma_at_E0 * (bins - Σγ_mean))**2) # )**2\n",
    "\n",
    "ax.plot(bins, Σγ_local_propagation, '--r', label='1st order snesitivity analysis')\n",
    "\n",
    "ax.set_xlabel('Σγ(E_0) for E_0 = %s'%(E_0) )\n",
    "ax.set_ylabel('Probability density Histogram of Σγ(E_0)')\n",
    "ax.set_title(r'Σmeanγ(E_0) = %s, meanΣγ(E_0) = %s, Σγ_sigma_at_E0 = %s, strd_dev_Σγ = %s'%(Σγ_mean, mean_Σγ, Σγ_sigma_at_E0, strd_dev_Σγ))\n",
    "\n",
    "\n"
   ]
  },
  {
   "cell_type": "markdown",
   "metadata": {},
   "source": [
    "> Here we observe 1-st order sensitivity propagation vs Monte Carlo: the blue histogram is the different cross section values from a Monte Carlo sampling the gaussian $\\Gamma$ resonance parameters, while the red dotted line is the gaussian around the cross section taken at mean resonance parameters. "
   ]
  },
  {
   "cell_type": "code",
   "execution_count": null,
   "metadata": {},
   "outputs": [],
   "source": [
    "MC_mean = sum(Σγ_hist)/Σγ_hist.size\n",
    "MC_mean"
   ]
  },
  {
   "cell_type": "code",
   "execution_count": null,
   "metadata": {},
   "outputs": [],
   "source": [
    "Σγ_mean"
   ]
  },
  {
   "cell_type": "code",
   "execution_count": null,
   "metadata": {},
   "outputs": [],
   "source": [
    "rel_mean_XS_vs_XS_of_mean = (MC_mean - Σγ_mean)/Σγ_mean \n",
    "rel_mean_XS_vs_XS_of_mean"
   ]
  },
  {
   "cell_type": "markdown",
   "metadata": {},
   "source": [
    "> The discrepancy between the mean cross section over the UQ vs the cross section of the mean resonance parameters is of about 7%."
   ]
  },
  {
   "cell_type": "markdown",
   "metadata": {},
   "source": [
    "## Exact Multipole representation\n"
   ]
  },
  {
   "cell_type": "markdown",
   "metadata": {},
   "source": [
    "> In our toy problem, we are able to calculate the exact (closed-form) of the pole representation, because we have less than 5 poles "
   ]
  },
  {
   "cell_type": "code",
   "execution_count": null,
   "metadata": {},
   "outputs": [],
   "source": [
    "Π = exact_poles_and_residues(μ_Γ_U238)\n",
    "Π"
   ]
  },
  {
   "cell_type": "code",
   "execution_count": null,
   "metadata": {},
   "outputs": [],
   "source": [
    "multipole_Σ(10, Π)"
   ]
  },
  {
   "cell_type": "code",
   "execution_count": null,
   "metadata": {},
   "outputs": [],
   "source": [
    "## Plot the mean cross section values. \n",
    "titre_Σ = 'Capture cross sections Σγ(E), first resonance U-238'\n",
    "titre_Σ_pdf = \"%s.%s\"%(titre_Σ, 'pdf')\n",
    "\n",
    "#plt.close('all')\n",
    "# Plotting the cross section\n",
    "#plt.loglog(E_g , np.array([sum(list(Σ_vector(E_g[g], μ_Γ_all))) for g in range(E_g.size)]) )\n",
    "plt.loglog(z_g**2 , np.array([analytic_Σγ(z_g[g], μ_Γ_U238) for g in range(z_g.size)]) , '-r', label='analytic_Σγ(z)') \n",
    "plt.loglog(z_g**2 , np.array([multipole_Σ(z_g[g], Π) for g in range(z_g.size)]) , '--k', label='Multipole_Σγ(z)') \n",
    "plt.ylabel('Cross section Σγ(E)')\n",
    "plt.xlabel('Energy E (eV)')\n",
    "plt.title(titre_Σ)\n",
    "plt.legend()\n",
    "\n",
    "plt.rcParams['axes.facecolor'] = '0.98'"
   ]
  },
  {
   "cell_type": "markdown",
   "metadata": {
    "colab_type": "text",
    "id": "MMk2S0oURs9D"
   },
   "source": [
    "## VF SLBW for mean poles and residues\n"
   ]
  },
  {
   "cell_type": "markdown",
   "metadata": {},
   "source": [
    "> We here test the capacity of the vector fitting algorithm (home-made simplest version) to find the exact poles and residues."
   ]
  },
  {
   "cell_type": "markdown",
   "metadata": {},
   "source": [
    "Generate training points from the cross section"
   ]
  },
  {
   "cell_type": "code",
   "execution_count": null,
   "metadata": {},
   "outputs": [],
   "source": [
    "E_max_train = 10**5 # Minimum energy of the energy groups\n",
    "E_min_train = 10**-3 # Maximum energy of the energy groups & the cutoff energy of the fision spectrum\n",
    "N_g_train = 10000 # Number of energy groups\n",
    "x_train = np.logspace(np.log10(E_min_train),np.log10(E_max_train),N_g_train) # Energy groups (here log-spaced) for flux ψ\n",
    "Y_train1 = np.array([x_train[g]**2 * z_space_Σγ(x_train[g], μ_Γ_U238) for g in range(x_train.size)]) #if you want\n"
   ]
  },
  {
   "cell_type": "code",
   "execution_count": null,
   "metadata": {},
   "outputs": [],
   "source": [
    "Y_train = np.transpose(np.array([Y_train1, Y_train1]))"
   ]
  },
  {
   "cell_type": "markdown",
   "metadata": {
    "colab_type": "text",
    "id": "bVXBCitxjWoM"
   },
   "source": [
    "VF algorithm results"
   ]
  },
  {
   "cell_type": "code",
   "execution_count": null,
   "metadata": {
    "colab": {
     "base_uri": "https://localhost:8080/",
     "height": 102
    },
    "colab_type": "code",
    "id": "_uW_TcLqH3ji",
    "outputId": "7911d5b4-9538-402d-898b-ddf4b25cf1b7",
    "scrolled": false
   },
   "outputs": [],
   "source": [
    "VF_poles, VF_residues, VF_poly_coeff, VF_offset, VF_residual, barycentric_residues = VF_algorithm(x_train, Y_train, 100, 0, 4) ## add VF_poly_coeff when poly_order not zero "
   ]
  },
  {
   "cell_type": "code",
   "execution_count": null,
   "metadata": {},
   "outputs": [],
   "source": [
    "def Σγ_VF(z):\n",
    "    return 1/z**2 * np.real(rational_function(z, VF_poles, VF_residues, VF_offset, VF_poly_coeff) )"
   ]
  },
  {
   "cell_type": "code",
   "execution_count": null,
   "metadata": {},
   "outputs": [],
   "source": [
    "## Plot the mean cross section values. \n",
    "titre_Σ = 'Capture cross sections Σγ(E), first resonance U-238'\n",
    "titre_Σ_pdf = \"%s.%s\"%(titre_Σ, 'pdf')\n",
    "\n",
    "#plt.close('all')\n",
    "# Plotting the cross section\n",
    "#plt.loglog(E_g , np.array([sum(list(Σ_vector(E_g[g], μ_Γ_all))) for g in range(E_g.size)]) )\n",
    "plt.loglog(z_g**2 , np.array([z_space_Σγ(z_g[g], μ_Γ_U238) for g in range(z_g.size)]) , '-r', label='analytic_Σγ(z)')\n",
    "plt.loglog(z_g**2 , np.array([multipole_Σ(z_g[g], Π) for g in range(z_g.size)]) , '--k', label='Multipole_Σγ(z)') \n",
    "plt.loglog(z_g**2 , np.array([Σγ_VF(z_g[g]) for g in range(z_g.size)]) , ':b', label='VF_Σγ(z)') \n",
    "plt.ylabel('Cross section Σγ(z) v.s. VF reconstruction')\n",
    "plt.xlabel('Energy E (eV)')\n",
    "plt.title(titre_Σ)\n",
    "plt.legend()\n",
    "\n",
    "plt.rcParams['axes.facecolor'] = '0.98'"
   ]
  },
  {
   "cell_type": "code",
   "execution_count": null,
   "metadata": {},
   "outputs": [],
   "source": [
    "plt.scatter(np.real(np.array([Π[j][0] for j in range(Π.shape[0])])), np.imag(np.array([Π[j][0] for j in range(Π.shape[0])])), s=300, color='k', marker='1',  label='exact poles')\n",
    "plt.scatter(np.real(np.array([np.conj(Π[j][0]) for j in range(Π.shape[0])])), np.imag(np.array([np.conj(Π[j][0]) for j in range(Π.shape[0])])), s=300, color='b', marker='2',  label='exact poles conjugates')\n",
    "plt.scatter(np.real(VF_poles), np.imag(VF_poles), s=300,  color='r', marker='x',label='VF poles')\n",
    "plt.xlabel('Real[z] = +sqrt(E)')\n",
    "plt.ylabel('Imaginary[z] = +sqrt(E) (eV)')\n",
    "plt.title('Exact v/s VF residues')\n",
    "plt.legend()"
   ]
  },
  {
   "cell_type": "code",
   "execution_count": null,
   "metadata": {},
   "outputs": [],
   "source": [
    "plt.scatter(np.real(np.array([Π[j][1] for j in range(Π.shape[0])])), np.imag(np.array([Π[j][1] for j in range(Π.shape[0])])), s=300, color='k', marker='1',label='exact residues')\n",
    "plt.scatter(np.real(np.array([np.conj(Π[j][1]) for j in range(Π.shape[0])])), np.imag(np.array([np.conj(Π[j][1]) for j in range(Π.shape[0])])), s=300, color='b', marker='2',label='exact residues conjugate')\n",
    "plt.scatter(np.real(2*VF_residues), np.imag(2*VF_residues), s=300,  color='r', marker='+', label='VF residues')\n",
    "plt.xlabel('Real[z] = +sqrt(E)')\n",
    "plt.ylabel('Imaginary[z] = +sqrt(E) (eV)')\n",
    "plt.title('Exact v/s VF residues')\n",
    "plt.legend()"
   ]
  },
  {
   "cell_type": "markdown",
   "metadata": {},
   "source": [
    "> The Vector Fitting (VF) algorithm is better at reproducing the cross section than the poles (which is not surprizing, that is the way it is conceived). This could result in scale-up issues, and we thus need to test wetheath the contour integral method is robust to the exact location of the poles and exact values of the residues. "
   ]
  },
  {
   "cell_type": "markdown",
   "metadata": {},
   "source": [
    "## Contour Integrals\n"
   ]
  },
  {
   "cell_type": "markdown",
   "metadata": {},
   "source": [
    "> We here code the functions required to perform Cauchy's Residue theorems contour integrals"
   ]
  },
  {
   "cell_type": "markdown",
   "metadata": {},
   "source": [
    "**Key functions for contour integrals**"
   ]
  },
  {
   "cell_type": "code",
   "execution_count": null,
   "metadata": {},
   "outputs": [],
   "source": [
    "def divide_by_z_pow_n(f,n):\n",
    "    def z_pow_n(z):\n",
    "        return f(z)/(z**n)\n",
    "    return z_pow_n"
   ]
  },
  {
   "cell_type": "code",
   "execution_count": null,
   "metadata": {},
   "outputs": [],
   "source": [
    "def multiply_by_z_min_p(f,p):\n",
    "    def z_pow_n(z):\n",
    "        return f(z)*(z-p)\n",
    "    return z_pow_n"
   ]
  },
  {
   "cell_type": "code",
   "execution_count": null,
   "metadata": {},
   "outputs": [],
   "source": [
    "def Cauchy_residues_extraction(f,p, N_contour = 10000 , ε = 0.001):\n",
    "    contour_integral = f(p+ε)*complex(0.0)\n",
    "    for n in range(N_contour):\n",
    "           contour_integral += (ε/N_contour)*f(p+ε*np.exp(2*np.pi*1j*(n/N_contour)))*np.exp(2*np.pi*1j*(n/N_contour))\n",
    "    return contour_integral         "
   ]
  },
  {
   "cell_type": "markdown",
   "metadata": {},
   "source": [
    "**Functions testing:**\n",
    "In particular, the effect of the number of points to do the contour integral, and the distance addound the poles (which should be bigger than the accuracy we have on the position of the poles). "
   ]
  },
  {
   "cell_type": "code",
   "execution_count": null,
   "metadata": {},
   "outputs": [],
   "source": [
    "def f_flat(z):\n",
    "    return np.array([1+1j, 1-1j])"
   ]
  },
  {
   "cell_type": "code",
   "execution_count": null,
   "metadata": {},
   "outputs": [],
   "source": [
    "Cauchy_residues_extraction(f_flat, 1+1j)"
   ]
  },
  {
   "cell_type": "code",
   "execution_count": null,
   "metadata": {},
   "outputs": [],
   "source": [
    "def rat1(z):\n",
    "    return 10 + (1+1j)/(z-1) + (2+2*1j)/(z-1)**2"
   ]
  },
  {
   "cell_type": "code",
   "execution_count": null,
   "metadata": {},
   "outputs": [],
   "source": [
    "Cauchy_residues_extraction(rat1, 1+1j)"
   ]
  },
  {
   "cell_type": "code",
   "execution_count": null,
   "metadata": {},
   "outputs": [],
   "source": [
    "Cauchy_residues_extraction(divide_by_z_pow_n(rat1,1), 0)"
   ]
  },
  {
   "cell_type": "code",
   "execution_count": null,
   "metadata": {},
   "outputs": [],
   "source": [
    "Cauchy_residues_extraction(divide_by_z_pow_n(rat1,1), 2)"
   ]
  },
  {
   "cell_type": "code",
   "execution_count": null,
   "metadata": {},
   "outputs": [],
   "source": [
    "Cauchy_residues_extraction(multiply_by_z_min_p(rat1,1), 0)"
   ]
  },
  {
   "cell_type": "code",
   "execution_count": null,
   "metadata": {},
   "outputs": [],
   "source": [
    "Cauchy_residues_extraction(multiply_by_z_min_p(rat1,1), 1)"
   ]
  },
  {
   "cell_type": "code",
   "execution_count": null,
   "metadata": {},
   "outputs": [],
   "source": [
    "def rat2(z):\n",
    "    return np.array([(1+1j)/(1 - z), (1-1j)/(1j - z)])"
   ]
  },
  {
   "cell_type": "code",
   "execution_count": null,
   "metadata": {},
   "outputs": [],
   "source": [
    "Cauchy_residues_extraction(rat2, 1+1j)"
   ]
  },
  {
   "cell_type": "code",
   "execution_count": null,
   "metadata": {},
   "outputs": [],
   "source": [
    "Cauchy_residues_extraction(rat2, 1)"
   ]
  },
  {
   "cell_type": "code",
   "execution_count": null,
   "metadata": {},
   "outputs": [],
   "source": [
    "Cauchy_residues_extraction(rat2, 1j)"
   ]
  },
  {
   "cell_type": "markdown",
   "metadata": {},
   "source": [
    "> We observe that we loose half the digits in numerical precision when doing the contour integral by division by powers of z... This is independent of the number of points in the contour integral. It is linearly dependent inthe number of zeros in the epsilon of the contour integral. Unfortunately, this is inversely so than to the accuracy of the residues of the Cauchy residues theorem... We think 0.0001 or even perhaps 0.001 could be a good compromise, but 0.01 is probably too big."
   ]
  },
  {
   "cell_type": "code",
   "execution_count": null,
   "metadata": {},
   "outputs": [],
   "source": [
    "def z_z_square(z):\n",
    "    return np.array([z/(z**2), (z**2)/z])"
   ]
  },
  {
   "cell_type": "code",
   "execution_count": null,
   "metadata": {},
   "outputs": [],
   "source": [
    "Cauchy_residues_extraction(z_z_square, 1+1j)"
   ]
  },
  {
   "cell_type": "code",
   "execution_count": null,
   "metadata": {},
   "outputs": [],
   "source": [
    "Cauchy_residues_extraction(z_z_square, 0)"
   ]
  },
  {
   "cell_type": "code",
   "execution_count": null,
   "metadata": {},
   "outputs": [],
   "source": [
    "Cauchy_residues_extraction(divide_by_z_pow_n(z_z_square,1), 0)"
   ]
  },
  {
   "cell_type": "code",
   "execution_count": null,
   "metadata": {},
   "outputs": [],
   "source": [
    "Cauchy_residues_extraction(divide_by_z_pow_n(z_z_square,2), 0)"
   ]
  },
  {
   "cell_type": "code",
   "execution_count": null,
   "metadata": {},
   "outputs": [],
   "source": [
    "Cauchy_residues_extraction(multiply_by_z_min_p(z_z_square,1), 0)"
   ]
  },
  {
   "cell_type": "markdown",
   "metadata": {},
   "source": [
    "**Searching for a way to cover the entire (E,+) sheet:** The computer will not do it, must be coded by hand..."
   ]
  },
  {
   "cell_type": "markdown",
   "metadata": {},
   "source": [
    "> I could not find a way in Python to define the sheet on the Riemann surface of mapping $\\pm \\sqrt{ E - E_T}$. \n",
    "I tried many options, perhaps the most promissing one using parity. \n"
   ]
  },
  {
   "cell_type": "code",
   "execution_count": null,
   "metadata": {},
   "outputs": [],
   "source": [
    "def sqrt_vs_pole(z):\n",
    "    return np.array([(1+1j)/(z), (1-1j)/(z**(0.5))])"
   ]
  },
  {
   "cell_type": "code",
   "execution_count": null,
   "metadata": {},
   "outputs": [],
   "source": [
    "def sqrt_vs_pole2(z):\n",
    "    return np.array([((1+1j)*z**(0.5))/(z), (1-1j)/(z**(0.5)*(z-2))])"
   ]
  },
  {
   "cell_type": "code",
   "execution_count": null,
   "metadata": {},
   "outputs": [],
   "source": [
    "Cauchy_residues_extraction(sqrt_vs_pole, 0)"
   ]
  },
  {
   "cell_type": "code",
   "execution_count": null,
   "metadata": {},
   "outputs": [],
   "source": [
    "Cauchy_residues_extraction(sqrt_vs_pole2, 0)"
   ]
  },
  {
   "cell_type": "code",
   "execution_count": null,
   "metadata": {},
   "outputs": [],
   "source": [
    "Cauchy_residues_extraction(sqrt_vs_pole2, 1)"
   ]
  },
  {
   "cell_type": "code",
   "execution_count": null,
   "metadata": {},
   "outputs": [],
   "source": [
    "Cauchy_residues_extraction(sqrt_vs_pole2, 2)"
   ]
  },
  {
   "cell_type": "code",
   "execution_count": null,
   "metadata": {},
   "outputs": [],
   "source": [
    "(1-1j)/2**0.5"
   ]
  },
  {
   "cell_type": "code",
   "execution_count": null,
   "metadata": {},
   "outputs": [],
   "source": [
    "(1j)**0.5"
   ]
  },
  {
   "cell_type": "code",
   "execution_count": null,
   "metadata": {},
   "outputs": [],
   "source": [
    "(-1j)**0.5"
   ]
  },
  {
   "cell_type": "code",
   "execution_count": null,
   "metadata": {},
   "outputs": [],
   "source": [
    "def f_test(z):\n",
    "    return z**0.5 + z "
   ]
  },
  {
   "cell_type": "code",
   "execution_count": null,
   "metadata": {},
   "outputs": [],
   "source": [
    "def f_test_branch2(z):\n",
    "    return -z**0.5 + z "
   ]
  },
  {
   "cell_type": "code",
   "execution_count": null,
   "metadata": {},
   "outputs": [],
   "source": [
    "z_test = 1+ 1j"
   ]
  },
  {
   "cell_type": "code",
   "execution_count": null,
   "metadata": {},
   "outputs": [],
   "source": [
    "z_test**0.5"
   ]
  },
  {
   "cell_type": "code",
   "execution_count": null,
   "metadata": {},
   "outputs": [],
   "source": [
    "(-z_test)**0.5"
   ]
  },
  {
   "cell_type": "code",
   "execution_count": null,
   "metadata": {},
   "outputs": [],
   "source": [
    "1j*(-z_test)**0.5"
   ]
  },
  {
   "cell_type": "code",
   "execution_count": null,
   "metadata": {},
   "outputs": [],
   "source": [
    "f_test(z_test)"
   ]
  },
  {
   "cell_type": "code",
   "execution_count": null,
   "metadata": {},
   "outputs": [],
   "source": [
    "f_test_branch2(z_test)"
   ]
  },
  {
   "cell_type": "code",
   "execution_count": null,
   "metadata": {},
   "outputs": [],
   "source": [
    "def f_pair(f,z):\n",
    "    return (f(z)+f(-z))/2\n",
    "def f_odd(f,z):\n",
    "    return (f(z)-f(-z))/2"
   ]
  },
  {
   "cell_type": "code",
   "execution_count": null,
   "metadata": {},
   "outputs": [],
   "source": [
    "f_pair(f_test,z_test) + f_odd(f_test,z_test) "
   ]
  },
  {
   "cell_type": "code",
   "execution_count": null,
   "metadata": {},
   "outputs": [],
   "source": [
    "f_pair(f_test,z_test**2) + f_odd(f_test,z_test**2) "
   ]
  },
  {
   "cell_type": "code",
   "execution_count": null,
   "metadata": {},
   "outputs": [],
   "source": [
    "1j*f_pair(f_test,1j*z_test) + 1j*f_odd(f_test,1j*z_test) "
   ]
  },
  {
   "cell_type": "code",
   "execution_count": null,
   "metadata": {},
   "outputs": [],
   "source": [
    "np.conj(f_pair(f_test,np.conj(z_test))) - np.conj(f_odd(f_test,np.conj(z_test))) "
   ]
  },
  {
   "cell_type": "code",
   "execution_count": null,
   "metadata": {},
   "outputs": [],
   "source": [
    "def Cauchy_residues_extraction_2_turns(f,p, N_contour = 100000 , ε = 0.001):\n",
    "    contour_integral = f(p+ε)*complex(0.0)\n",
    "    for n in range(N_contour):\n",
    "           contour_integral += (2*ε/N_contour)*f(p+ε*np.exp(4*np.pi*1j*(n/N_contour)))*np.exp(4*np.pi*1j*(n/N_contour))\n",
    "    return contour_integral/2"
   ]
  },
  {
   "cell_type": "code",
   "execution_count": null,
   "metadata": {},
   "outputs": [],
   "source": [
    "Cauchy_residues_extraction_2_turns(sqrt_vs_pole, 0)"
   ]
  },
  {
   "cell_type": "code",
   "execution_count": null,
   "metadata": {},
   "outputs": [],
   "source": [
    "np.angle((1-1j)**(0.5))"
   ]
  },
  {
   "cell_type": "code",
   "execution_count": null,
   "metadata": {},
   "outputs": [],
   "source": [
    "np.angle(np.exp(3*np.pi*1j))"
   ]
  },
  {
   "cell_type": "code",
   "execution_count": null,
   "metadata": {},
   "outputs": [],
   "source": [
    "def Cauchy_residues_extraction_2_turns(f,p, N_contour = 10000 , ε = 0.001):\n",
    "    contour_integral = f(p+ε)*complex(0.0)\n",
    "    for n in range(N_contour):\n",
    "           contour_integral += (ε/N_contour)*f(p+ε*np.exp(np.pi*1j*(n/N_contour)))*np.exp(np.pi*1j*(n/N_contour)) \\\n",
    "                             - (ε/N_contour)*f(p+ε*np.exp(np.pi*1j + np.pi*1j*(n/N_contour)))*np.exp(np.pi*1j*(n/N_contour))  \\\n",
    "                             - (ε/N_contour)*f(p-ε*np.exp(-np.pi*1j*(n/N_contour)))*np.exp(-np.pi*1j*(n/N_contour))  \\\n",
    "                             + (ε/N_contour)*f(p-ε*np.exp(np.pi*1j -np.pi*1j*(n/N_contour)))*np.exp(-np.pi*1j*(n/N_contour))  \n",
    "    return contour_integral/4"
   ]
  },
  {
   "cell_type": "code",
   "execution_count": null,
   "metadata": {},
   "outputs": [],
   "source": [
    "Cauchy_residues_extraction_2_turns(sqrt_vs_pole, 0)"
   ]
  },
  {
   "cell_type": "code",
   "execution_count": null,
   "metadata": {},
   "outputs": [],
   "source": [
    "## Cauchy Residues Theorem\n",
    "def Cauchy_residues_extraction_pair_approach(f,p, N_contour = 10000 , ε = 0.00001):\n",
    "    def f_pair(z):\n",
    "        return (f(z)+f(-z))/2\n",
    "    def f_odd(z):\n",
    "        return (f(z)-f(-z))/2\n",
    "    contour_integral = f(p+ε)*complex(0.0)\n",
    "    for n in range(N_contour):\n",
    "           contour_integral += (ε/N_contour)*f_pair(p+ε*np.exp(np.pi*1j*(n/N_contour)))*np.exp(np.pi*1j*(n/N_contour)) \\\n",
    "                             + (ε/N_contour)*f_pair(p-ε*np.exp(np.pi*1j - np.pi*1j*(n/N_contour)))*np.exp(np.pi*1j*(n/N_contour))  \\\n",
    "                             + (ε/N_contour)*f_odd(p+ε*np.exp(np.pi*1j*(n/N_contour)))*np.exp(np.pi*1j*(n/N_contour))  \\\n",
    "                             + (ε/N_contour)*f_odd(p-ε*np.exp(np.pi*1j -np.pi*1j*(n/N_contour)))*np.exp(np.pi*1j*(n/N_contour))  \n",
    "    return contour_integral/4"
   ]
  },
  {
   "cell_type": "code",
   "execution_count": null,
   "metadata": {},
   "outputs": [],
   "source": [
    "Cauchy_residues_extraction_pair_approach(sqrt_vs_pole, 0)"
   ]
  },
  {
   "cell_type": "code",
   "execution_count": null,
   "metadata": {},
   "outputs": [],
   "source": [
    "import cmath"
   ]
  },
  {
   "cell_type": "code",
   "execution_count": null,
   "metadata": {},
   "outputs": [],
   "source": [
    "cmath.sqrt(cmath.exp(2*cmath.pi*1j))"
   ]
  },
  {
   "cell_type": "code",
   "execution_count": null,
   "metadata": {},
   "outputs": [],
   "source": [
    "cmath.polar(cmath.exp(2*cmath.pi*1j))"
   ]
  },
  {
   "cell_type": "code",
   "execution_count": null,
   "metadata": {},
   "outputs": [],
   "source": [
    "cmath.polar(cmath.exp(4*cmath.pi*1j))"
   ]
  },
  {
   "cell_type": "code",
   "execution_count": null,
   "metadata": {},
   "outputs": [],
   "source": [
    "cmath.sqrt(cmath.exp(4*cmath.pi*1j))"
   ]
  },
  {
   "cell_type": "markdown",
   "metadata": {},
   "source": [
    "## Sensitivities by Contour Integrals"
   ]
  },
  {
   "cell_type": "markdown",
   "metadata": {},
   "source": [
    "> We here test the capability of the contour integrals method to produce the correct cross section sensitivities"
   ]
  },
  {
   "cell_type": "markdown",
   "metadata": {},
   "source": [
    "Need single entry funtions to run them in the contour integral functions"
   ]
  },
  {
   "cell_type": "code",
   "execution_count": null,
   "metadata": {},
   "outputs": [],
   "source": [
    "def Σγ_z(z):\n",
    "    return analytic_Σγ(z, μ_Γ_U238)"
   ]
  },
  {
   "cell_type": "code",
   "execution_count": null,
   "metadata": {},
   "outputs": [],
   "source": [
    "def dΣγ_dΓ_complex(z): ## The most simple SLBW caputre resonance\n",
    "    return analytic_dΣγ_dΓ(z, μ_Γ_U238)"
   ]
  },
  {
   "cell_type": "code",
   "execution_count": null,
   "metadata": {},
   "outputs": [],
   "source": [
    "# Energy grid structure\n",
    "E_max = 10**4 # Minimum energy of the energy groups\n",
    "E_min = 10**-1 # Maximum energy of the energy groups & the cutoff energy of the fision spectrum\n",
    "N_g = 10000 # Number of energy groups\n",
    "E_g = np.logspace(np.log10(E_min),np.log10(E_max),N_g) # Energy groups (here log-spaced) for flux ψ\n",
    "z_g = E_g**0.5\n",
    "## Plot the mean cross section values. \n",
    "plot_title = 'Partial derivatives of Σγ(E) with respect to Γ'\n",
    "plot_title_pdf = \"%s.%s\"%(plot_title, 'pdf')\n",
    "\n",
    "#plt.close('all')\n",
    "# Plotting the cross section\n",
    "plt.loglog(E_g , np.abs(np.array([ dΣγ_dΓ(E_g[g], μ_Γ_U238) for g in range(E_g.size)])) , '-.b', label='δΣγ/δΓ(E)') \n",
    "plt.loglog(z_g**2 , np.abs(np.array([ analytic_dΣγ_dΓ(z_g[g], μ_Γ_U238) for g in range(E_g.size)])) , ':k', label='δΣγ/δΓ(z)') \n",
    "plt.loglog(z_g**2 , np.abs(np.array([ dΣγ_dΓ_complex(z_g[g]) for g in range(E_g.size)])) , ':r', label='complex_δΣγ/δΓ(z)') \n",
    "plt.ylabel('δΣγ/δΓ(E)')\n",
    "plt.xlabel('Energy E (eV)')\n",
    "plt.title(plot_title)\n",
    "plt.legend()\n",
    "\n",
    "plt.rcParams['axes.facecolor'] = '0.98'"
   ]
  },
  {
   "cell_type": "markdown",
   "metadata": {},
   "source": [
    "the differentials for all resonance parameters for all poles and all resiudes."
   ]
  },
  {
   "cell_type": "code",
   "execution_count": null,
   "metadata": {},
   "outputs": [],
   "source": [
    "dr_dΓ = np.array([ 2*Π[j][0]**2*Cauchy_residues_extraction(dΣγ_dΓ_complex,Π[j][0]) for j in range(Π.shape[0])])\n",
    "\n",
    "dp_dΓ = np.array([ 2*Π[j][0]**2/Π[j][1]*Cauchy_residues_extraction(multiply_by_z_min_p(dΣγ_dΓ_complex,Π[j][0]),Π[j][0]) for j in range(Π.shape[0])])"
   ]
  },
  {
   "cell_type": "code",
   "execution_count": null,
   "metadata": {},
   "outputs": [],
   "source": [
    "dΣγ_dΓ_complex(1) "
   ]
  },
  {
   "cell_type": "code",
   "execution_count": null,
   "metadata": {},
   "outputs": [],
   "source": [
    "dp_dΓ.shape"
   ]
  },
  {
   "cell_type": "markdown",
   "metadata": {},
   "source": [
    "`dp_dΓ[j][i]`  j pole i resonance parameter"
   ]
  },
  {
   "cell_type": "markdown",
   "metadata": {},
   "source": [
    "> We here validate that the contour integral method got the correct derivatives of poles and residues"
   ]
  },
  {
   "cell_type": "code",
   "execution_count": null,
   "metadata": {},
   "outputs": [],
   "source": [
    "Π"
   ]
  },
  {
   "cell_type": "markdown",
   "metadata": {},
   "source": [
    "**Testing poles:** compare analytic poles derivatives to contour integral ones"
   ]
  },
  {
   "cell_type": "code",
   "execution_count": null,
   "metadata": {},
   "outputs": [],
   "source": [
    "polesMP = np.array([Π[j][0] for j in range(Π.shape[0])])\n",
    "polesMP"
   ]
  },
  {
   "cell_type": "code",
   "execution_count": null,
   "metadata": {},
   "outputs": [],
   "source": [
    "dp_dΓ"
   ]
  },
  {
   "cell_type": "code",
   "execution_count": null,
   "metadata": {},
   "outputs": [],
   "source": [
    "np.transpose(dp_dΓ)[0]"
   ]
  },
  {
   "cell_type": "code",
   "execution_count": null,
   "metadata": {},
   "outputs": [],
   "source": [
    "1/(2*polesMP) "
   ]
  },
  {
   "cell_type": "code",
   "execution_count": null,
   "metadata": {},
   "outputs": [],
   "source": [
    "np.transpose(dp_dΓ)[0] - 1/(2*polesMP) "
   ]
  },
  {
   "cell_type": "code",
   "execution_count": null,
   "metadata": {},
   "outputs": [],
   "source": [
    "np.transpose(dp_dΓ)[2] + 1j/(2*polesMP) "
   ]
  },
  {
   "cell_type": "markdown",
   "metadata": {},
   "source": [
    "**Testing residues:** testing analytic residues derivaties with numerical contour integration"
   ]
  },
  {
   "cell_type": "code",
   "execution_count": null,
   "metadata": {},
   "outputs": [],
   "source": [
    "dr_dΓ"
   ]
  },
  {
   "cell_type": "code",
   "execution_count": null,
   "metadata": {},
   "outputs": [],
   "source": [
    "resMP = np.array([Π[j][1] for j in range(Π.shape[0])])\n",
    "resMP"
   ]
  },
  {
   "cell_type": "code",
   "execution_count": null,
   "metadata": {},
   "outputs": [],
   "source": [
    "np.transpose(dr_dΓ)[0] + resMP/(2*μ_Γ_U238[0]**0.5) "
   ]
  },
  {
   "cell_type": "code",
   "execution_count": null,
   "metadata": {},
   "outputs": [],
   "source": [
    "μ_Γ_U238"
   ]
  },
  {
   "cell_type": "code",
   "execution_count": null,
   "metadata": {},
   "outputs": [],
   "source": [
    "dr_dΓ - 1/(2*resMP) "
   ]
  },
  {
   "cell_type": "markdown",
   "metadata": {},
   "source": [
    "> validated: we find the correct sensitivities of poles and residues"
   ]
  },
  {
   "cell_type": "code",
   "execution_count": null,
   "metadata": {},
   "outputs": [],
   "source": []
  },
  {
   "cell_type": "code",
   "execution_count": null,
   "metadata": {},
   "outputs": [],
   "source": [
    "# Energy grid structure\n",
    "E_max = 10**6 # Minimum energy of the energy groups\n",
    "E_min = 10**-1 # Maximum energy of the energy groups & the cutoff energy of the fision spectrum\n",
    "N_g = 10000 # Number of energy groups\n",
    "E_g = np.logspace(np.log10(E_min),np.log10(E_max),N_g) # Energy groups (here log-spaced) for flux ψ\n",
    "z_g = E_g**0.5\n",
    "## Plot the mean cross section values. \n",
    "plot_title = 'Partial derivative of Σγ(E) with respect to Eλ'\n",
    "plot_title_pdf = \"%s.%s\"%(plot_title, 'pdf')\n",
    "\n",
    "#plt.close('all')\n",
    "# Plotting the cross section\n",
    "#plt.loglog(E_g , np.array([sum(list(Σ_vector(E_g[g], μ_Γ_all))) for g in range(E_g.size)]) )\n",
    "plt.loglog(E_g , np.abs(np.array([(evaluate_Σγ(E_g[g], Γ_U238_ε_E0) - evaluate_Σγ(E_g[g], μ_Γ_U238) )/ε for g in range(E_g.size)])) , '-r', label='(Σγ(E,Eλ + ε) - Σγ(E,Eλ) )/ε ') \n",
    "plt.loglog(E_g , np.abs(np.array([ dΣγ_dΓ(E_g[g], μ_Γ_U238)[0] for g in range(E_g.size)])) , '-.b', label='δΣγ/δEλ(E)') \n",
    "plt.loglog(z_g**2 , np.abs(np.array([ analytic_dΣγ_dΓ(z_g[g], μ_Γ_U238)[0] for g in range(E_g.size)])) , ':k', label='δΣγ/δEλ(z)') \n",
    "plt.loglog(z_g**2 , np.abs(np.array([ multipole_dΣ_dΓ(z_g[g], Π, dp_dΓ, dr_dΓ ) for g in range(E_g.size)])) , '--g', label='MP_contour_δΣγ/δEλ(z)') \n",
    "plt.ylabel('δΣγ/δEλ(E)')\n",
    "plt.xlabel('Energy E (eV)')\n",
    "plt.title(plot_title)\n",
    "plt.legend()\n",
    "\n",
    "plt.rcParams['axes.facecolor'] = '0.98'"
   ]
  },
  {
   "cell_type": "markdown",
   "metadata": {},
   "source": [
    "This is probably a bug. \n",
    "But it could be due to the Real part, which breaks the analytic properties. Must use the explicit version with the complex conjugates or look carefully how to compute this. It is not obvious. "
   ]
  },
  {
   "cell_type": "code",
   "execution_count": null,
   "metadata": {},
   "outputs": [],
   "source": []
  }
 ],
 "metadata": {
  "colab": {
   "collapsed_sections": [],
   "name": "Covariance_conversion.ipynb",
   "provenance": [],
   "version": "0.3.2"
  },
  "kernelspec": {
   "display_name": "Python 3",
   "language": "python",
   "name": "python3"
  },
  "language_info": {
   "codemirror_mode": {
    "name": "ipython",
    "version": 3
   },
   "file_extension": ".py",
   "mimetype": "text/x-python",
   "name": "python",
   "nbconvert_exporter": "python",
   "pygments_lexer": "ipython3",
   "version": "3.7.0"
  }
 },
 "nbformat": 4,
 "nbformat_minor": 1
}
